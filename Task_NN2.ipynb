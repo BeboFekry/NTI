{
  "nbformat": 4,
  "nbformat_minor": 0,
  "metadata": {
    "colab": {
      "provenance": []
    },
    "kernelspec": {
      "name": "python3",
      "display_name": "Python 3"
    },
    "language_info": {
      "name": "python"
    }
  },
  "cells": [
    {
      "cell_type": "markdown",
      "source": [
        "getting my data"
      ],
      "metadata": {
        "id": "zP51nOnBXdkA"
      }
    },
    {
      "cell_type": "code",
      "execution_count": 1,
      "metadata": {
        "id": "p-9LigZrV9E5"
      },
      "outputs": [],
      "source": [
        "from tensorflow.keras import datasets\n",
        "(x_train, y_train), (x_test,y_test) = datasets.mnist.load_data()"
      ]
    },
    {
      "cell_type": "code",
      "source": [
        "print(x_train.shape, y_train.shape, x_test.shape, y_test.shape,sep='\\n')"
      ],
      "metadata": {
        "colab": {
          "base_uri": "https://localhost:8080/"
        },
        "id": "nwbe3z6HXMIU",
        "outputId": "f33815b7-4900-4855-e498-41873307be88"
      },
      "execution_count": 2,
      "outputs": [
        {
          "output_type": "stream",
          "name": "stdout",
          "text": [
            "(60000, 28, 28)\n",
            "(60000,)\n",
            "(10000, 28, 28)\n",
            "(10000,)\n"
          ]
        }
      ]
    },
    {
      "cell_type": "code",
      "source": [
        "x_train[0]"
      ],
      "metadata": {
        "colab": {
          "base_uri": "https://localhost:8080/"
        },
        "id": "v5RQHai0bOHi",
        "outputId": "806730ae-1af5-4618-917b-925710ecb381"
      },
      "execution_count": 3,
      "outputs": [
        {
          "output_type": "execute_result",
          "data": {
            "text/plain": [
              "array([[  0,   0,   0,   0,   0,   0,   0,   0,   0,   0,   0,   0,   0,\n",
              "          0,   0,   0,   0,   0,   0,   0,   0,   0,   0,   0,   0,   0,\n",
              "          0,   0],\n",
              "       [  0,   0,   0,   0,   0,   0,   0,   0,   0,   0,   0,   0,   0,\n",
              "          0,   0,   0,   0,   0,   0,   0,   0,   0,   0,   0,   0,   0,\n",
              "          0,   0],\n",
              "       [  0,   0,   0,   0,   0,   0,   0,   0,   0,   0,   0,   0,   0,\n",
              "          0,   0,   0,   0,   0,   0,   0,   0,   0,   0,   0,   0,   0,\n",
              "          0,   0],\n",
              "       [  0,   0,   0,   0,   0,   0,   0,   0,   0,   0,   0,   0,   0,\n",
              "          0,   0,   0,   0,   0,   0,   0,   0,   0,   0,   0,   0,   0,\n",
              "          0,   0],\n",
              "       [  0,   0,   0,   0,   0,   0,   0,   0,   0,   0,   0,   0,   0,\n",
              "          0,   0,   0,   0,   0,   0,   0,   0,   0,   0,   0,   0,   0,\n",
              "          0,   0],\n",
              "       [  0,   0,   0,   0,   0,   0,   0,   0,   0,   0,   0,   0,   3,\n",
              "         18,  18,  18, 126, 136, 175,  26, 166, 255, 247, 127,   0,   0,\n",
              "          0,   0],\n",
              "       [  0,   0,   0,   0,   0,   0,   0,   0,  30,  36,  94, 154, 170,\n",
              "        253, 253, 253, 253, 253, 225, 172, 253, 242, 195,  64,   0,   0,\n",
              "          0,   0],\n",
              "       [  0,   0,   0,   0,   0,   0,   0,  49, 238, 253, 253, 253, 253,\n",
              "        253, 253, 253, 253, 251,  93,  82,  82,  56,  39,   0,   0,   0,\n",
              "          0,   0],\n",
              "       [  0,   0,   0,   0,   0,   0,   0,  18, 219, 253, 253, 253, 253,\n",
              "        253, 198, 182, 247, 241,   0,   0,   0,   0,   0,   0,   0,   0,\n",
              "          0,   0],\n",
              "       [  0,   0,   0,   0,   0,   0,   0,   0,  80, 156, 107, 253, 253,\n",
              "        205,  11,   0,  43, 154,   0,   0,   0,   0,   0,   0,   0,   0,\n",
              "          0,   0],\n",
              "       [  0,   0,   0,   0,   0,   0,   0,   0,   0,  14,   1, 154, 253,\n",
              "         90,   0,   0,   0,   0,   0,   0,   0,   0,   0,   0,   0,   0,\n",
              "          0,   0],\n",
              "       [  0,   0,   0,   0,   0,   0,   0,   0,   0,   0,   0, 139, 253,\n",
              "        190,   2,   0,   0,   0,   0,   0,   0,   0,   0,   0,   0,   0,\n",
              "          0,   0],\n",
              "       [  0,   0,   0,   0,   0,   0,   0,   0,   0,   0,   0,  11, 190,\n",
              "        253,  70,   0,   0,   0,   0,   0,   0,   0,   0,   0,   0,   0,\n",
              "          0,   0],\n",
              "       [  0,   0,   0,   0,   0,   0,   0,   0,   0,   0,   0,   0,  35,\n",
              "        241, 225, 160, 108,   1,   0,   0,   0,   0,   0,   0,   0,   0,\n",
              "          0,   0],\n",
              "       [  0,   0,   0,   0,   0,   0,   0,   0,   0,   0,   0,   0,   0,\n",
              "         81, 240, 253, 253, 119,  25,   0,   0,   0,   0,   0,   0,   0,\n",
              "          0,   0],\n",
              "       [  0,   0,   0,   0,   0,   0,   0,   0,   0,   0,   0,   0,   0,\n",
              "          0,  45, 186, 253, 253, 150,  27,   0,   0,   0,   0,   0,   0,\n",
              "          0,   0],\n",
              "       [  0,   0,   0,   0,   0,   0,   0,   0,   0,   0,   0,   0,   0,\n",
              "          0,   0,  16,  93, 252, 253, 187,   0,   0,   0,   0,   0,   0,\n",
              "          0,   0],\n",
              "       [  0,   0,   0,   0,   0,   0,   0,   0,   0,   0,   0,   0,   0,\n",
              "          0,   0,   0,   0, 249, 253, 249,  64,   0,   0,   0,   0,   0,\n",
              "          0,   0],\n",
              "       [  0,   0,   0,   0,   0,   0,   0,   0,   0,   0,   0,   0,   0,\n",
              "          0,  46, 130, 183, 253, 253, 207,   2,   0,   0,   0,   0,   0,\n",
              "          0,   0],\n",
              "       [  0,   0,   0,   0,   0,   0,   0,   0,   0,   0,   0,   0,  39,\n",
              "        148, 229, 253, 253, 253, 250, 182,   0,   0,   0,   0,   0,   0,\n",
              "          0,   0],\n",
              "       [  0,   0,   0,   0,   0,   0,   0,   0,   0,   0,  24, 114, 221,\n",
              "        253, 253, 253, 253, 201,  78,   0,   0,   0,   0,   0,   0,   0,\n",
              "          0,   0],\n",
              "       [  0,   0,   0,   0,   0,   0,   0,   0,  23,  66, 213, 253, 253,\n",
              "        253, 253, 198,  81,   2,   0,   0,   0,   0,   0,   0,   0,   0,\n",
              "          0,   0],\n",
              "       [  0,   0,   0,   0,   0,   0,  18, 171, 219, 253, 253, 253, 253,\n",
              "        195,  80,   9,   0,   0,   0,   0,   0,   0,   0,   0,   0,   0,\n",
              "          0,   0],\n",
              "       [  0,   0,   0,   0,  55, 172, 226, 253, 253, 253, 253, 244, 133,\n",
              "         11,   0,   0,   0,   0,   0,   0,   0,   0,   0,   0,   0,   0,\n",
              "          0,   0],\n",
              "       [  0,   0,   0,   0, 136, 253, 253, 253, 212, 135, 132,  16,   0,\n",
              "          0,   0,   0,   0,   0,   0,   0,   0,   0,   0,   0,   0,   0,\n",
              "          0,   0],\n",
              "       [  0,   0,   0,   0,   0,   0,   0,   0,   0,   0,   0,   0,   0,\n",
              "          0,   0,   0,   0,   0,   0,   0,   0,   0,   0,   0,   0,   0,\n",
              "          0,   0],\n",
              "       [  0,   0,   0,   0,   0,   0,   0,   0,   0,   0,   0,   0,   0,\n",
              "          0,   0,   0,   0,   0,   0,   0,   0,   0,   0,   0,   0,   0,\n",
              "          0,   0],\n",
              "       [  0,   0,   0,   0,   0,   0,   0,   0,   0,   0,   0,   0,   0,\n",
              "          0,   0,   0,   0,   0,   0,   0,   0,   0,   0,   0,   0,   0,\n",
              "          0,   0]], dtype=uint8)"
            ]
          },
          "metadata": {},
          "execution_count": 3
        }
      ]
    },
    {
      "cell_type": "code",
      "source": [
        "import matplotlib.pyplot as plt\n",
        "plt.imshow(x_train[0])"
      ],
      "metadata": {
        "colab": {
          "base_uri": "https://localhost:8080/",
          "height": 447
        },
        "id": "BlzqMFp1XsRb",
        "outputId": "2506af2f-a303-4eb4-d625-0064b496275f"
      },
      "execution_count": 4,
      "outputs": [
        {
          "output_type": "execute_result",
          "data": {
            "text/plain": [
              "<matplotlib.image.AxesImage at 0x7d573dc4b610>"
            ]
          },
          "metadata": {},
          "execution_count": 4
        },
        {
          "output_type": "display_data",
          "data": {
            "text/plain": [
              "<Figure size 640x480 with 1 Axes>"
            ],
            "image/png": "[encoded data removed]"
          },
          "metadata": {}
        }
      ]
    },
    {
      "cell_type": "code",
      "source": [
        "x_train = x_train/255\n",
        "x_test = x_test/255"
      ],
      "metadata": {
        "id": "5-nRWMMdZmci"
      },
      "execution_count": 5,
      "outputs": []
    },
    {
      "cell_type": "code",
      "source": [
        "x_train.shape"
      ],
      "metadata": {
        "colab": {
          "base_uri": "https://localhost:8080/"
        },
        "id": "6ANUM8aAbki_",
        "outputId": "7231fcb6-e7c0-44d5-d72d-b207875d68a9"
      },
      "execution_count": 6,
      "outputs": [
        {
          "output_type": "execute_result",
          "data": {
            "text/plain": [
              "(60000, 28, 28)"
            ]
          },
          "metadata": {},
          "execution_count": 6
        }
      ]
    },
    {
      "cell_type": "code",
      "source": [
        "# plt.imshow(x_train[0])"
      ],
      "metadata": {
        "id": "naX7XWsJbnk8"
      },
      "execution_count": 7,
      "outputs": []
    },
    {
      "cell_type": "code",
      "source": [
        "from keras.models import Sequential\n",
        "from keras.layers import Dense\n",
        "model = Sequential()\n",
        "model.add(Dense(120,input_shape=(784,),activation='tanh'))\n",
        "model.add(Dense(84,activation='tanh'))\n",
        "model.add(Dense(10,activation='softmax'))\n",
        "model.summary()"
      ],
      "metadata": {
        "colab": {
          "base_uri": "https://localhost:8080/"
        },
        "id": "uhXIictIc8lt",
        "outputId": "317fac48-6eb9-4b7b-f6a5-b34e0a9516da"
      },
      "execution_count": 8,
      "outputs": [
        {
          "output_type": "stream",
          "name": "stdout",
          "text": [
            "Model: \"sequential\"\n",
            "_________________________________________________________________\n",
            " Layer (type)                Output Shape              Param #   \n",
            "=================================================================\n",
            " dense (Dense)               (None, 120)               94200     \n",
            "                                                                 \n",
            " dense_1 (Dense)             (None, 84)                10164     \n",
            "                                                                 \n",
            " dense_2 (Dense)             (None, 10)                850       \n",
            "                                                                 \n",
            "=================================================================\n",
            "Total params: 105214 (410.99 KB)\n",
            "Trainable params: 105214 (410.99 KB)\n",
            "Non-trainable params: 0 (0.00 Byte)\n",
            "_________________________________________________________________\n"
          ]
        }
      ]
    },
    {
      "cell_type": "code",
      "source": [
        "x_train = x_train.reshape(-1,784)\n",
        "x_test = x_test.reshape(-1,784)"
      ],
      "metadata": {
        "id": "mFxvLKJRyMuz"
      },
      "execution_count": 9,
      "outputs": []
    },
    {
      "cell_type": "code",
      "source": [
        "model.compile(loss='sparse_categorical_crossentropy',optimizer='Adam',metrics='accuracy')\n",
        "res = model.fit(x_train,y_train,epochs=30,validation_data=(x_test,y_test),verbose=2)"
      ],
      "metadata": {
        "id": "Tmw5XTKaxD8x",
        "colab": {
          "base_uri": "https://localhost:8080/"
        },
        "outputId": "b9f27122-fe0b-463b-cfcb-00cbba8f4e3c"
      },
      "execution_count": 10,
      "outputs": [
        {
          "output_type": "stream",
          "name": "stdout",
          "text": [
            "Epoch 1/30\n",
            "1875/1875 - 20s - loss: 0.2589 - accuracy: 0.9243 - val_loss: 0.1565 - val_accuracy: 0.9522 - 20s/epoch - 10ms/step\n",
            "Epoch 2/30\n",
            "1875/1875 - 14s - loss: 0.1193 - accuracy: 0.9636 - val_loss: 0.1050 - val_accuracy: 0.9684 - 14s/epoch - 7ms/step\n",
            "Epoch 3/30\n",
            "1875/1875 - 7s - loss: 0.0822 - accuracy: 0.9752 - val_loss: 0.0876 - val_accuracy: 0.9727 - 7s/epoch - 4ms/step\n",
            "Epoch 4/30\n",
            "1875/1875 - 7s - loss: 0.0593 - accuracy: 0.9815 - val_loss: 0.0802 - val_accuracy: 0.9748 - 7s/epoch - 4ms/step\n",
            "Epoch 5/30\n",
            "1875/1875 - 5s - loss: 0.0460 - accuracy: 0.9855 - val_loss: 0.0761 - val_accuracy: 0.9764 - 5s/epoch - 3ms/step\n",
            "Epoch 6/30\n",
            "1875/1875 - 6s - loss: 0.0357 - accuracy: 0.9888 - val_loss: 0.1019 - val_accuracy: 0.9677 - 6s/epoch - 3ms/step\n",
            "Epoch 7/30\n",
            "1875/1875 - 6s - loss: 0.0281 - accuracy: 0.9914 - val_loss: 0.0800 - val_accuracy: 0.9765 - 6s/epoch - 3ms/step\n",
            "Epoch 8/30\n",
            "1875/1875 - 6s - loss: 0.0225 - accuracy: 0.9928 - val_loss: 0.0919 - val_accuracy: 0.9734 - 6s/epoch - 3ms/step\n",
            "Epoch 9/30\n",
            "1875/1875 - 7s - loss: 0.0199 - accuracy: 0.9938 - val_loss: 0.0917 - val_accuracy: 0.9745 - 7s/epoch - 4ms/step\n",
            "Epoch 10/30\n",
            "1875/1875 - 5s - loss: 0.0150 - accuracy: 0.9955 - val_loss: 0.0856 - val_accuracy: 0.9766 - 5s/epoch - 3ms/step\n",
            "Epoch 11/30\n",
            "1875/1875 - 6s - loss: 0.0149 - accuracy: 0.9951 - val_loss: 0.0941 - val_accuracy: 0.9764 - 6s/epoch - 3ms/step\n",
            "Epoch 12/30\n",
            "1875/1875 - 5s - loss: 0.0111 - accuracy: 0.9964 - val_loss: 0.0935 - val_accuracy: 0.9755 - 5s/epoch - 3ms/step\n",
            "Epoch 13/30\n",
            "1875/1875 - 5s - loss: 0.0114 - accuracy: 0.9963 - val_loss: 0.0903 - val_accuracy: 0.9765 - 5s/epoch - 3ms/step\n",
            "Epoch 14/30\n",
            "1875/1875 - 6s - loss: 0.0082 - accuracy: 0.9975 - val_loss: 0.0887 - val_accuracy: 0.9779 - 6s/epoch - 3ms/step\n",
            "Epoch 15/30\n",
            "1875/1875 - 6s - loss: 0.0110 - accuracy: 0.9961 - val_loss: 0.0952 - val_accuracy: 0.9765 - 6s/epoch - 3ms/step\n",
            "Epoch 16/30\n",
            "1875/1875 - 6s - loss: 0.0071 - accuracy: 0.9980 - val_loss: 0.1121 - val_accuracy: 0.9765 - 6s/epoch - 3ms/step\n",
            "Epoch 17/30\n",
            "1875/1875 - 5s - loss: 0.0093 - accuracy: 0.9969 - val_loss: 0.1018 - val_accuracy: 0.9759 - 5s/epoch - 3ms/step\n",
            "Epoch 18/30\n",
            "1875/1875 - 6s - loss: 0.0042 - accuracy: 0.9989 - val_loss: 0.1067 - val_accuracy: 0.9761 - 6s/epoch - 3ms/step\n",
            "Epoch 19/30\n",
            "1875/1875 - 7s - loss: 0.0101 - accuracy: 0.9965 - val_loss: 0.0980 - val_accuracy: 0.9758 - 7s/epoch - 4ms/step\n",
            "Epoch 20/30\n",
            "1875/1875 - 5s - loss: 0.0069 - accuracy: 0.9979 - val_loss: 0.1100 - val_accuracy: 0.9756 - 5s/epoch - 3ms/step\n",
            "Epoch 21/30\n",
            "1875/1875 - 7s - loss: 0.0057 - accuracy: 0.9983 - val_loss: 0.1126 - val_accuracy: 0.9759 - 7s/epoch - 4ms/step\n",
            "Epoch 22/30\n",
            "1875/1875 - 5s - loss: 0.0093 - accuracy: 0.9970 - val_loss: 0.0942 - val_accuracy: 0.9768 - 5s/epoch - 3ms/step\n",
            "Epoch 23/30\n",
            "1875/1875 - 6s - loss: 0.0054 - accuracy: 0.9983 - val_loss: 0.1093 - val_accuracy: 0.9767 - 6s/epoch - 3ms/step\n",
            "Epoch 24/30\n",
            "1875/1875 - 6s - loss: 0.0066 - accuracy: 0.9979 - val_loss: 0.1212 - val_accuracy: 0.9731 - 6s/epoch - 3ms/step\n",
            "Epoch 25/30\n",
            "1875/1875 - 5s - loss: 0.0056 - accuracy: 0.9982 - val_loss: 0.1207 - val_accuracy: 0.9739 - 5s/epoch - 3ms/step\n",
            "Epoch 26/30\n",
            "1875/1875 - 7s - loss: 0.0077 - accuracy: 0.9974 - val_loss: 0.1067 - val_accuracy: 0.9772 - 7s/epoch - 4ms/step\n",
            "Epoch 27/30\n",
            "1875/1875 - 5s - loss: 0.0044 - accuracy: 0.9986 - val_loss: 0.1004 - val_accuracy: 0.9760 - 5s/epoch - 3ms/step\n",
            "Epoch 28/30\n",
            "1875/1875 - 6s - loss: 0.0058 - accuracy: 0.9981 - val_loss: 0.1054 - val_accuracy: 0.9760 - 6s/epoch - 3ms/step\n",
            "Epoch 29/30\n",
            "1875/1875 - 5s - loss: 0.0055 - accuracy: 0.9982 - val_loss: 0.1128 - val_accuracy: 0.9761 - 5s/epoch - 3ms/step\n",
            "Epoch 30/30\n",
            "1875/1875 - 5s - loss: 0.0048 - accuracy: 0.9985 - val_loss: 0.1135 - val_accuracy: 0.9764 - 5s/epoch - 3ms/step\n"
          ]
        }
      ]
    },
    {
      "cell_type": "code",
      "source": [
        "model.summary()"
      ],
      "metadata": {
        "colab": {
          "base_uri": "https://localhost:8080/"
        },
        "id": "LYriHpjozX0H",
        "outputId": "aab9c7a5-eb5d-4c40-916d-c4dcc5819be6"
      },
      "execution_count": 11,
      "outputs": [
        {
          "output_type": "stream",
          "name": "stdout",
          "text": [
            "Model: \"sequential\"\n",
            "_________________________________________________________________\n",
            " Layer (type)                Output Shape              Param #   \n",
            "=================================================================\n",
            " dense (Dense)               (None, 120)               94200     \n",
            "                                                                 \n",
            " dense_1 (Dense)             (None, 84)                10164     \n",
            "                                                                 \n",
            " dense_2 (Dense)             (None, 10)                850       \n",
            "                                                                 \n",
            "=================================================================\n",
            "Total params: 105214 (410.99 KB)\n",
            "Trainable params: 105214 (410.99 KB)\n",
            "Non-trainable params: 0 (0.00 Byte)\n",
            "_________________________________________________________________\n"
          ]
        }
      ]
    },
    {
      "cell_type": "code",
      "source": [
        "print(\"first loss: \",res.history['loss'][0],\"\\n\",\"last loss:  \",res.history['loss'][-1],sep='')"
      ],
      "metadata": {
        "colab": {
          "base_uri": "https://localhost:8080/"
        },
        "id": "82PnRW26zxxN",
        "outputId": "b1626ba5-2623-4078-924b-f3746e9f3a14"
      },
      "execution_count": 12,
      "outputs": [
        {
          "output_type": "stream",
          "name": "stdout",
          "text": [
            "first loss: 0.25885123014450073\n",
            "last loss:  0.0047985524870455265\n"
          ]
        }
      ]
    },
    {
      "cell_type": "code",
      "source": [
        "yp = model.predict(x_test)\n",
        "loss,acc =model.evaluate(x_train,y_train)\n",
        "print(\"Train accuracy:\",round(acc*100,2),'%')"
      ],
      "metadata": {
        "colab": {
          "base_uri": "https://localhost:8080/"
        },
        "id": "sCeavpzqzkN7",
        "outputId": "e02a9d7f-ecaa-462a-b97d-6e2968a06624"
      },
      "execution_count": 13,
      "outputs": [
        {
          "output_type": "stream",
          "name": "stdout",
          "text": [
            "313/313 [==============================] - 1s 2ms/step\n",
            "1875/1875 [==============================] - 4s 2ms/step - loss: 0.0035 - accuracy: 0.9988\n",
            "Train accuracy: 99.88 %\n"
          ]
        }
      ]
    },
    {
      "cell_type": "markdown",
      "source": [
        "Test accuracy"
      ],
      "metadata": {
        "id": "WoNVNOfO5ZFb"
      }
    },
    {
      "cell_type": "code",
      "source": [
        "loss2,acc2 =model.evaluate(x_test,y_test)\n",
        "print(\"Test accuracy:\",round(acc2*100,2),'%')"
      ],
      "metadata": {
        "colab": {
          "base_uri": "https://localhost:8080/"
        },
        "id": "Z4y8ZIqt5YY6",
        "outputId": "5d43e7e3-3964-4e2e-deae-76ef22f96ed2"
      },
      "execution_count": 14,
      "outputs": [
        {
          "output_type": "stream",
          "name": "stdout",
          "text": [
            "313/313 [==============================] - 1s 3ms/step - loss: 0.1135 - accuracy: 0.9764\n",
            "Test accuracy: 97.64 %\n"
          ]
        }
      ]
    },
    {
      "cell_type": "code",
      "source": [
        "# res.history"
      ],
      "metadata": {
        "id": "U2zMqUieGDvC"
      },
      "execution_count": 15,
      "outputs": []
    },
    {
      "cell_type": "code",
      "source": [
        "import matplotlib.pyplot as plt\n",
        "plt.plot(res.history['accuracy'],label='accuracy',color='blue')\n",
        "plt.plot(res.history[\"val_accuracy\"],label='test_accuracy',color='r')\n",
        "\n"
      ],
      "metadata": {
        "colab": {
          "base_uri": "https://localhost:8080/",
          "height": 447
        },
        "id": "B88OzhHQC7Fv",
        "outputId": "0ad5b1ef-593e-4e9a-b5df-ff30934df59a"
      },
      "execution_count": 16,
      "outputs": [
        {
          "output_type": "execute_result",
          "data": {
            "text/plain": [
              "[<matplotlib.lines.Line2D at 0x7d570a4f2530>]"
            ]
          },
          "metadata": {},
          "execution_count": 16
        },
        {
          "output_type": "display_data",
          "data": {
            "text/plain": [
              "<Figure size 640x480 with 1 Axes>"
            ],
            "image/png": "[encoded data removed]"
          },
          "metadata": {}
        }
      ]
    },
    {
      "cell_type": "code",
      "source": [
        "model.save('model.h5')"
      ],
      "metadata": {
        "colab": {
          "base_uri": "https://localhost:8080/"
        },
        "id": "ef4B50ioHcFl",
        "outputId": "a1987e26-9076-46de-9b0b-88171cd77c88"
      },
      "execution_count": 17,
      "outputs": [
        {
          "output_type": "stream",
          "name": "stderr",
          "text": [
            "/usr/local/lib/python3.10/dist-packages/keras/src/engine/training.py:3000: UserWarning: You are saving your model as an HDF5 file via `model.save()`. This file format is considered legacy. We recommend using instead the native Keras format, e.g. `model.save('my_model.keras')`.\n",
            "  saving_api.save_model(\n"
          ]
        }
      ]
    },
    {
      "cell_type": "code",
      "source": [
        "from google.colab import drive\n",
        "drive.mount('/content/drive')"
      ],
      "metadata": {
        "colab": {
          "base_uri": "https://localhost:8080/"
        },
        "id": "NTU2XgnsniM-",
        "outputId": "4c7debb6-807a-4537-c877-b46eedb98fc0"
      },
      "execution_count": 20,
      "outputs": [
        {
          "output_type": "stream",
          "name": "stdout",
          "text": [
            "Mounted at /content/drive\n"
          ]
        }
      ]
    },
    {
      "cell_type": "code",
      "source": [
        "from keras.models import load_model\n",
        "m = load_model('/content/drive/MyDrive/model.h5')\n",
        "L , A = m.evaluate(x_test,y_test)\n",
        "A"
      ],
      "metadata": {
        "colab": {
          "base_uri": "https://localhost:8080/"
        },
        "id": "pSEJw2eJIQPM",
        "outputId": "af8c9707-97a4-4598-fc3b-25fe32a36eb6"
      },
      "execution_count": 21,
      "outputs": [
        {
          "output_type": "stream",
          "name": "stdout",
          "text": [
            "313/313 [==============================] - 1s 2ms/step - loss: 0.1180 - accuracy: 0.9778\n"
          ]
        },
        {
          "output_type": "execute_result",
          "data": {
            "text/plain": [
              "0.9778000116348267"
            ]
          },
          "metadata": {},
          "execution_count": 21
        }
      ]
    },
    {
      "cell_type": "code",
      "source": [
        "from tensorflow.keras.utils import load_img,img_to_array\n",
        "img = load_img('/content/3_test.png',target_size=(28,28))\n",
        "plt.imshow(img)"
      ],
      "metadata": {
        "colab": {
          "base_uri": "https://localhost:8080/",
          "height": 447
        },
        "id": "5fM_2A_Ib6Xf",
        "outputId": "0d9215b3-af69-400a-fec6-6a61ba10a0d8"
      },
      "execution_count": 22,
      "outputs": [
        {
          "output_type": "execute_result",
          "data": {
            "text/plain": [
              "<matplotlib.image.AxesImage at 0x7d57191979a0>"
            ]
          },
          "metadata": {},
          "execution_count": 22
        },
        {
          "output_type": "display_data",
          "data": {
            "text/plain": [
              "<Figure size 640x480 with 1 Axes>"
            ],
            "image/png": "[encoded data removed]"
          },
          "metadata": {}
        }
      ]
    },
    {
      "cell_type": "code",
      "source": [
        "img.size"
      ],
      "metadata": {
        "colab": {
          "base_uri": "https://localhost:8080/"
        },
        "id": "HvFHFf4t50GW",
        "outputId": "4f0826df-1a00-4c5a-a31f-24384c9239a5"
      },
      "execution_count": 23,
      "outputs": [
        {
          "output_type": "execute_result",
          "data": {
            "text/plain": [
              "(28, 28)"
            ]
          },
          "metadata": {},
          "execution_count": 23
        }
      ]
    },
    {
      "cell_type": "code",
      "source": [
        "img = img.convert('L')"
      ],
      "metadata": {
        "id": "NN0edwtILR4d"
      },
      "execution_count": 24,
      "outputs": []
    },
    {
      "cell_type": "code",
      "source": [
        "img=img_to_array(img)\n",
        "img.shape"
      ],
      "metadata": {
        "colab": {
          "base_uri": "https://localhost:8080/"
        },
        "id": "UbDCamtaJ_b3",
        "outputId": "a9c168c1-9f63-4dc0-c52c-40396cadc50d"
      },
      "execution_count": 25,
      "outputs": [
        {
          "output_type": "execute_result",
          "data": {
            "text/plain": [
              "(28, 28, 1)"
            ]
          },
          "metadata": {},
          "execution_count": 25
        }
      ]
    },
    {
      "cell_type": "code",
      "source": [
        "img=img/255"
      ],
      "metadata": {
        "id": "Ms9oRCJ06_Hm"
      },
      "execution_count": 26,
      "outputs": []
    },
    {
      "cell_type": "code",
      "source": [
        "x_train[0].shape"
      ],
      "metadata": {
        "colab": {
          "base_uri": "https://localhost:8080/"
        },
        "id": "UJIqrHW26wl9",
        "outputId": "48dd0920-75ed-4c74-8de2-8bfd57078492"
      },
      "execution_count": 27,
      "outputs": [
        {
          "output_type": "execute_result",
          "data": {
            "text/plain": [
              "(784,)"
            ]
          },
          "metadata": {},
          "execution_count": 27
        }
      ]
    },
    {
      "cell_type": "code",
      "source": [
        "img = img.reshape(x_train[0].shape)\n",
        "img.shape"
      ],
      "metadata": {
        "colab": {
          "base_uri": "https://localhost:8080/"
        },
        "id": "46bOP7YyzeDl",
        "outputId": "78e5ac72-7a32-458c-9ba3-488bf4bbefc5"
      },
      "execution_count": 28,
      "outputs": [
        {
          "output_type": "execute_result",
          "data": {
            "text/plain": [
              "(784,)"
            ]
          },
          "metadata": {},
          "execution_count": 28
        }
      ]
    },
    {
      "cell_type": "code",
      "source": [
        "from numpy import argmax\n",
        "from sklearn.metrics import confusion_matrix\n",
        "yp1 = argmax(yp,axis=1)"
      ],
      "metadata": {
        "id": "0ZnoqcLBMu8p"
      },
      "execution_count": 29,
      "outputs": []
    },
    {
      "cell_type": "code",
      "source": [
        "print(confusion_matrix(y_test,yp1))"
      ],
      "metadata": {
        "colab": {
          "base_uri": "https://localhost:8080/"
        },
        "id": "5ilvrwMiNAEj",
        "outputId": "c2a324a2-dc07-4107-9f5e-bec981e1b751"
      },
      "execution_count": 30,
      "outputs": [
        {
          "output_type": "stream",
          "name": "stdout",
          "text": [
            "[[ 970    0    2    1    1    2    0    1    1    2]\n",
            " [   0 1121    3    3    0    1    3    1    3    0]\n",
            " [   6    1 1009    2    1    0    1    8    4    0]\n",
            " [   0    0    5  987    1    3    0    4    3    7]\n",
            " [   1    0    3    0  964    1    3    2    0    8]\n",
            " [   2    0    0   10    0  871    4    1    2    2]\n",
            " [   4    3    2    2    5    5  934    0    3    0]\n",
            " [   1    5    7    2    2    0    0 1001    4    6]\n",
            " [   1    1    3   12    6    9    2    6  928    6]\n",
            " [   2    2    0    3   13    5    1    3    1  979]]\n"
          ]
        }
      ]
    },
    {
      "cell_type": "code",
      "source": [
        "# m = load_model('/content/drive/MyDrive/model.h5')\n",
        "# p = m.predict(img)\n",
        "# p"
      ],
      "metadata": {
        "id": "9Ne_hpbsLegt"
      },
      "execution_count": 33,
      "outputs": []
    }
  ]
}