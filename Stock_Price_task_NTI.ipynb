{
  "nbformat": 4,
  "nbformat_minor": 0,
  "metadata": {
    "colab": {
      "provenance": [],
      "gpuType": "T4"
    },
    "kernelspec": {
      "name": "python3",
      "display_name": "Python 3"
    },
    "language_info": {
      "name": "python"
    },
    "accelerator": "GPU"
  },
  "cells": [
    {
      "cell_type": "markdown",
      "source": [
        "#**Stock Price Prediction by LSTM (Regression)**\n",
        "**Abdallah Fekry Mohammed**\n",
        "\n",
        "**NTI**\n"
      ],
      "metadata": {
        "id": "8iYLv4T1j1-s"
      }
    },
    {
      "cell_type": "code",
      "source": [
        "import pandas as pd\n",
        "df = pd.read_csv('/content/AAPL.csv')\n",
        "df.head()"
      ],
      "metadata": {
        "colab": {
          "base_uri": "https://localhost:8080/",
          "height": 206
        },
        "id": "S2TaSQMDj4R3",
        "outputId": "f806ded6-b624-4f4a-c7d5-464847ffb5a4"
      },
      "execution_count": null,
      "outputs": [
        {
          "output_type": "execute_result",
          "data": {
            "text/plain": [
              "         Date       Open       High        Low      Close  Adj Close  \\\n",
              "0  2013-01-02  19.779285  19.821428  19.343929  19.608213  16.890799   \n",
              "1  2013-01-03  19.567142  19.631071  19.321428  19.360714  16.677595   \n",
              "2  2013-01-04  19.177500  19.236786  18.779642  18.821428  16.213049   \n",
              "3  2013-01-07  18.642857  18.903570  18.400000  18.710714  16.117680   \n",
              "4  2013-01-08  18.900356  18.996071  18.616072  18.761070  16.161058   \n",
              "\n",
              "      Volume  \n",
              "0  560518000  \n",
              "1  352965200  \n",
              "2  594333600  \n",
              "3  484156400  \n",
              "4  458707200  "
            ],
            "text/html": [
              "\n",
              "  <div id=\"df-0cd2e6a4-9aa8-4fec-a68c-6e86c97e7e2c\" class=\"colab-df-container\">\n",
              "    <div>\n",
              "<style scoped>\n",
              "    .dataframe tbody tr th:only-of-type {\n",
              "        vertical-align: middle;\n",
              "    }\n",
              "\n",
              "    .dataframe tbody tr th {\n",
              "        vertical-align: top;\n",
              "    }\n",
              "\n",
              "    .dataframe thead th {\n",
              "        text-align: right;\n",
              "    }\n",
              "</style>\n",
              "<table border=\"1\" class=\"dataframe\">\n",
              "  <thead>\n",
              "    <tr style=\"text-align: right;\">\n",
              "      <th></th>\n",
              "      <th>Date</th>\n",
              "      <th>Open</th>\n",
              "      <th>High</th>\n",
              "      <th>Low</th>\n",
              "      <th>Close</th>\n",
              "      <th>Adj Close</th>\n",
              "      <th>Volume</th>\n",
              "    </tr>\n",
              "  </thead>\n",
              "  <tbody>\n",
              "    <tr>\n",
              "      <th>0</th>\n",
              "      <td>2013-01-02</td>\n",
              "      <td>19.779285</td>\n",
              "      <td>19.821428</td>\n",
              "      <td>19.343929</td>\n",
              "      <td>19.608213</td>\n",
              "      <td>16.890799</td>\n",
              "      <td>560518000</td>\n",
              "    </tr>\n",
              "    <tr>\n",
              "      <th>1</th>\n",
              "      <td>2013-01-03</td>\n",
              "      <td>19.567142</td>\n",
              "      <td>19.631071</td>\n",
              "      <td>19.321428</td>\n",
              "      <td>19.360714</td>\n",
              "      <td>16.677595</td>\n",
              "      <td>352965200</td>\n",
              "    </tr>\n",
              "    <tr>\n",
              "      <th>2</th>\n",
              "      <td>2013-01-04</td>\n",
              "      <td>19.177500</td>\n",
              "      <td>19.236786</td>\n",
              "      <td>18.779642</td>\n",
              "      <td>18.821428</td>\n",
              "      <td>16.213049</td>\n",
              "      <td>594333600</td>\n",
              "    </tr>\n",
              "    <tr>\n",
              "      <th>3</th>\n",
              "      <td>2013-01-07</td>\n",
              "      <td>18.642857</td>\n",
              "      <td>18.903570</td>\n",
              "      <td>18.400000</td>\n",
              "      <td>18.710714</td>\n",
              "      <td>16.117680</td>\n",
              "      <td>484156400</td>\n",
              "    </tr>\n",
              "    <tr>\n",
              "      <th>4</th>\n",
              "      <td>2013-01-08</td>\n",
              "      <td>18.900356</td>\n",
              "      <td>18.996071</td>\n",
              "      <td>18.616072</td>\n",
              "      <td>18.761070</td>\n",
              "      <td>16.161058</td>\n",
              "      <td>458707200</td>\n",
              "    </tr>\n",
              "  </tbody>\n",
              "</table>\n",
              "</div>\n",
              "    <div class=\"colab-df-buttons\">\n",
              "\n",
              "  <div class=\"colab-df-container\">\n",
              "    <button class=\"colab-df-convert\" onclick=\"convertToInteractive('df-0cd2e6a4-9aa8-4fec-a68c-6e86c97e7e2c')\"\n",
              "            title=\"Convert this dataframe to an interactive table.\"\n",
              "            style=\"display:none;\">\n",
              "\n",
              "  <svg xmlns=\"http://www.w3.org/2000/svg\" height=\"24px\" viewBox=\"0 -960 960 960\">\n",
              "    <path d=\"M120-120v-720h720v720H120Zm60-500h600v-160H180v160Zm220 220h160v-160H400v160Zm0 220h160v-160H400v160ZM180-400h160v-160H180v160Zm440 0h160v-160H620v160ZM180-180h160v-160H180v160Zm440 0h160v-160H620v160Z\"/>\n",
              "  </svg>\n",
              "    </button>\n",
              "\n",
              "  <style>\n",
              "    .colab-df-container {\n",
              "      display:flex;\n",
              "      gap: 12px;\n",
              "    }\n",
              "\n",
              "    .colab-df-convert {\n",
              "      background-color: #E8F0FE;\n",
              "      border: none;\n",
              "      border-radius: 50%;\n",
              "      cursor: pointer;\n",
              "      display: none;\n",
              "      fill: #1967D2;\n",
              "      height: 32px;\n",
              "      padding: 0 0 0 0;\n",
              "      width: 32px;\n",
              "    }\n",
              "\n",
              "    .colab-df-convert:hover {\n",
              "      background-color: #E2EBFA;\n",
              "      box-shadow: 0px 1px 2px rgba(60, 64, 67, 0.3), 0px 1px 3px 1px rgba(60, 64, 67, 0.15);\n",
              "      fill: #174EA6;\n",
              "    }\n",
              "\n",
              "    .colab-df-buttons div {\n",
              "      margin-bottom: 4px;\n",
              "    }\n",
              "\n",
              "    [theme=dark] .colab-df-convert {\n",
              "      background-color: #3B4455;\n",
              "      fill: #D2E3FC;\n",
              "    }\n",
              "\n",
              "    [theme=dark] .colab-df-convert:hover {\n",
              "      background-color: #434B5C;\n",
              "      box-shadow: 0px 1px 3px 1px rgba(0, 0, 0, 0.15);\n",
              "      filter: drop-shadow(0px 1px 2px rgba(0, 0, 0, 0.3));\n",
              "      fill: #FFFFFF;\n",
              "    }\n",
              "  </style>\n",
              "\n",
              "    <script>\n",
              "      const buttonEl =\n",
              "        document.querySelector('#df-0cd2e6a4-9aa8-4fec-a68c-6e86c97e7e2c button.colab-df-convert');\n",
              "      buttonEl.style.display =\n",
              "        google.colab.kernel.accessAllowed ? 'block' : 'none';\n",
              "\n",
              "      async function convertToInteractive(key) {\n",
              "        const element = document.querySelector('#df-0cd2e6a4-9aa8-4fec-a68c-6e86c97e7e2c');\n",
              "        const dataTable =\n",
              "          await google.colab.kernel.invokeFunction('convertToInteractive',\n",
              "                                                    [key], {});\n",
              "        if (!dataTable) return;\n",
              "\n",
              "        const docLinkHtml = 'Like what you see? Visit the ' +\n",
              "          '<a target=\"_blank\" href=https://colab.research.google.com/notebooks/data_table.ipynb>data table notebook</a>'\n",
              "          + ' to learn more about interactive tables.';\n",
              "        element.innerHTML = '';\n",
              "        dataTable['output_type'] = 'display_data';\n",
              "        await google.colab.output.renderOutput(dataTable, element);\n",
              "        const docLink = document.createElement('div');\n",
              "        docLink.innerHTML = docLinkHtml;\n",
              "        element.appendChild(docLink);\n",
              "      }\n",
              "    </script>\n",
              "  </div>\n",
              "\n",
              "\n",
              "<div id=\"df-ddb2e5e1-22df-409a-b3e7-c3ce21c85c0a\">\n",
              "  <button class=\"colab-df-quickchart\" onclick=\"quickchart('df-ddb2e5e1-22df-409a-b3e7-c3ce21c85c0a')\"\n",
              "            title=\"Suggest charts.\"\n",
              "            style=\"display:none;\">\n",
              "\n",
              "<svg xmlns=\"http://www.w3.org/2000/svg\" height=\"24px\"viewBox=\"0 0 24 24\"\n",
              "     width=\"24px\">\n",
              "    <g>\n",
              "        <path d=\"M19 3H5c-1.1 0-2 .9-2 2v14c0 1.1.9 2 2 2h14c1.1 0 2-.9 2-2V5c0-1.1-.9-2-2-2zM9 17H7v-7h2v7zm4 0h-2V7h2v10zm4 0h-2v-4h2v4z\"/>\n",
              "    </g>\n",
              "</svg>\n",
              "  </button>\n",
              "\n",
              "<style>\n",
              "  .colab-df-quickchart {\n",
              "      --bg-color: #E8F0FE;\n",
              "      --fill-color: #1967D2;\n",
              "      --hover-bg-color: #E2EBFA;\n",
              "      --hover-fill-color: #174EA6;\n",
              "      --disabled-fill-color: #AAA;\n",
              "      --disabled-bg-color: #DDD;\n",
              "  }\n",
              "\n",
              "  [theme=dark] .colab-df-quickchart {\n",
              "      --bg-color: #3B4455;\n",
              "      --fill-color: #D2E3FC;\n",
              "      --hover-bg-color: #434B5C;\n",
              "      --hover-fill-color: #FFFFFF;\n",
              "      --disabled-bg-color: #3B4455;\n",
              "      --disabled-fill-color: #666;\n",
              "  }\n",
              "\n",
              "  .colab-df-quickchart {\n",
              "    background-color: var(--bg-color);\n",
              "    border: none;\n",
              "    border-radius: 50%;\n",
              "    cursor: pointer;\n",
              "    display: none;\n",
              "    fill: var(--fill-color);\n",
              "    height: 32px;\n",
              "    padding: 0;\n",
              "    width: 32px;\n",
              "  }\n",
              "\n",
              "  .colab-df-quickchart:hover {\n",
              "    background-color: var(--hover-bg-color);\n",
              "    box-shadow: 0 1px 2px rgba(60, 64, 67, 0.3), 0 1px 3px 1px rgba(60, 64, 67, 0.15);\n",
              "    fill: var(--button-hover-fill-color);\n",
              "  }\n",
              "\n",
              "  .colab-df-quickchart-complete:disabled,\n",
              "  .colab-df-quickchart-complete:disabled:hover {\n",
              "    background-color: var(--disabled-bg-color);\n",
              "    fill: var(--disabled-fill-color);\n",
              "    box-shadow: none;\n",
              "  }\n",
              "\n",
              "  .colab-df-spinner {\n",
              "    border: 2px solid var(--fill-color);\n",
              "    border-color: transparent;\n",
              "    border-bottom-color: var(--fill-color);\n",
              "    animation:\n",
              "      spin 1s steps(1) infinite;\n",
              "  }\n",
              "\n",
              "  @keyframes spin {\n",
              "    0% {\n",
              "      border-color: transparent;\n",
              "      border-bottom-color: var(--fill-color);\n",
              "      border-left-color: var(--fill-color);\n",
              "    }\n",
              "    20% {\n",
              "      border-color: transparent;\n",
              "      border-left-color: var(--fill-color);\n",
              "      border-top-color: var(--fill-color);\n",
              "    }\n",
              "    30% {\n",
              "      border-color: transparent;\n",
              "      border-left-color: var(--fill-color);\n",
              "      border-top-color: var(--fill-color);\n",
              "      border-right-color: var(--fill-color);\n",
              "    }\n",
              "    40% {\n",
              "      border-color: transparent;\n",
              "      border-right-color: var(--fill-color);\n",
              "      border-top-color: var(--fill-color);\n",
              "    }\n",
              "    60% {\n",
              "      border-color: transparent;\n",
              "      border-right-color: var(--fill-color);\n",
              "    }\n",
              "    80% {\n",
              "      border-color: transparent;\n",
              "      border-right-color: var(--fill-color);\n",
              "      border-bottom-color: var(--fill-color);\n",
              "    }\n",
              "    90% {\n",
              "      border-color: transparent;\n",
              "      border-bottom-color: var(--fill-color);\n",
              "    }\n",
              "  }\n",
              "</style>\n",
              "\n",
              "  <script>\n",
              "    async function quickchart(key) {\n",
              "      const quickchartButtonEl =\n",
              "        document.querySelector('#' + key + ' button');\n",
              "      quickchartButtonEl.disabled = true;  // To prevent multiple clicks.\n",
              "      quickchartButtonEl.classList.add('colab-df-spinner');\n",
              "      try {\n",
              "        const charts = await google.colab.kernel.invokeFunction(\n",
              "            'suggestCharts', [key], {});\n",
              "      } catch (error) {\n",
              "        console.error('Error during call to suggestCharts:', error);\n",
              "      }\n",
              "      quickchartButtonEl.classList.remove('colab-df-spinner');\n",
              "      quickchartButtonEl.classList.add('colab-df-quickchart-complete');\n",
              "    }\n",
              "    (() => {\n",
              "      let quickchartButtonEl =\n",
              "        document.querySelector('#df-ddb2e5e1-22df-409a-b3e7-c3ce21c85c0a button');\n",
              "      quickchartButtonEl.style.display =\n",
              "        google.colab.kernel.accessAllowed ? 'block' : 'none';\n",
              "    })();\n",
              "  </script>\n",
              "</div>\n",
              "    </div>\n",
              "  </div>\n"
            ]
          },
          "metadata": {},
          "execution_count": 16
        }
      ]
    },
    {
      "cell_type": "code",
      "source": [
        "d = df.iloc[:,1:2]\n",
        "d.head()"
      ],
      "metadata": {
        "colab": {
          "base_uri": "https://localhost:8080/",
          "height": 206
        },
        "id": "EbFcFKx5j9BI",
        "outputId": "90bc3e7a-c4ff-4268-b255-5c59213c3706"
      },
      "execution_count": null,
      "outputs": [
        {
          "output_type": "execute_result",
          "data": {
            "text/plain": [
              "        Open\n",
              "0  19.779285\n",
              "1  19.567142\n",
              "2  19.177500\n",
              "3  18.642857\n",
              "4  18.900356"
            ],
            "text/html": [
              "\n",
              "  <div id=\"df-fef37be6-2491-4061-b5f0-385a59bedf53\" class=\"colab-df-container\">\n",
              "    <div>\n",
              "<style scoped>\n",
              "    .dataframe tbody tr th:only-of-type {\n",
              "        vertical-align: middle;\n",
              "    }\n",
              "\n",
              "    .dataframe tbody tr th {\n",
              "        vertical-align: top;\n",
              "    }\n",
              "\n",
              "    .dataframe thead th {\n",
              "        text-align: right;\n",
              "    }\n",
              "</style>\n",
              "<table border=\"1\" class=\"dataframe\">\n",
              "  <thead>\n",
              "    <tr style=\"text-align: right;\">\n",
              "      <th></th>\n",
              "      <th>Open</th>\n",
              "    </tr>\n",
              "  </thead>\n",
              "  <tbody>\n",
              "    <tr>\n",
              "      <th>0</th>\n",
              "      <td>19.779285</td>\n",
              "    </tr>\n",
              "    <tr>\n",
              "      <th>1</th>\n",
              "      <td>19.567142</td>\n",
              "    </tr>\n",
              "    <tr>\n",
              "      <th>2</th>\n",
              "      <td>19.177500</td>\n",
              "    </tr>\n",
              "    <tr>\n",
              "      <th>3</th>\n",
              "      <td>18.642857</td>\n",
              "    </tr>\n",
              "    <tr>\n",
              "      <th>4</th>\n",
              "      <td>18.900356</td>\n",
              "    </tr>\n",
              "  </tbody>\n",
              "</table>\n",
              "</div>\n",
              "    <div class=\"colab-df-buttons\">\n",
              "\n",
              "  <div class=\"colab-df-container\">\n",
              "    <button class=\"colab-df-convert\" onclick=\"convertToInteractive('df-fef37be6-2491-4061-b5f0-385a59bedf53')\"\n",
              "            title=\"Convert this dataframe to an interactive table.\"\n",
              "            style=\"display:none;\">\n",
              "\n",
              "  <svg xmlns=\"http://www.w3.org/2000/svg\" height=\"24px\" viewBox=\"0 -960 960 960\">\n",
              "    <path d=\"M120-120v-720h720v720H120Zm60-500h600v-160H180v160Zm220 220h160v-160H400v160Zm0 220h160v-160H400v160ZM180-400h160v-160H180v160Zm440 0h160v-160H620v160ZM180-180h160v-160H180v160Zm440 0h160v-160H620v160Z\"/>\n",
              "  </svg>\n",
              "    </button>\n",
              "\n",
              "  <style>\n",
              "    .colab-df-container {\n",
              "      display:flex;\n",
              "      gap: 12px;\n",
              "    }\n",
              "\n",
              "    .colab-df-convert {\n",
              "      background-color: #E8F0FE;\n",
              "      border: none;\n",
              "      border-radius: 50%;\n",
              "      cursor: pointer;\n",
              "      display: none;\n",
              "      fill: #1967D2;\n",
              "      height: 32px;\n",
              "      padding: 0 0 0 0;\n",
              "      width: 32px;\n",
              "    }\n",
              "\n",
              "    .colab-df-convert:hover {\n",
              "      background-color: #E2EBFA;\n",
              "      box-shadow: 0px 1px 2px rgba(60, 64, 67, 0.3), 0px 1px 3px 1px rgba(60, 64, 67, 0.15);\n",
              "      fill: #174EA6;\n",
              "    }\n",
              "\n",
              "    .colab-df-buttons div {\n",
              "      margin-bottom: 4px;\n",
              "    }\n",
              "\n",
              "    [theme=dark] .colab-df-convert {\n",
              "      background-color: #3B4455;\n",
              "      fill: #D2E3FC;\n",
              "    }\n",
              "\n",
              "    [theme=dark] .colab-df-convert:hover {\n",
              "      background-color: #434B5C;\n",
              "      box-shadow: 0px 1px 3px 1px rgba(0, 0, 0, 0.15);\n",
              "      filter: drop-shadow(0px 1px 2px rgba(0, 0, 0, 0.3));\n",
              "      fill: #FFFFFF;\n",
              "    }\n",
              "  </style>\n",
              "\n",
              "    <script>\n",
              "      const buttonEl =\n",
              "        document.querySelector('#df-fef37be6-2491-4061-b5f0-385a59bedf53 button.colab-df-convert');\n",
              "      buttonEl.style.display =\n",
              "        google.colab.kernel.accessAllowed ? 'block' : 'none';\n",
              "\n",
              "      async function convertToInteractive(key) {\n",
              "        const element = document.querySelector('#df-fef37be6-2491-4061-b5f0-385a59bedf53');\n",
              "        const dataTable =\n",
              "          await google.colab.kernel.invokeFunction('convertToInteractive',\n",
              "                                                    [key], {});\n",
              "        if (!dataTable) return;\n",
              "\n",
              "        const docLinkHtml = 'Like what you see? Visit the ' +\n",
              "          '<a target=\"_blank\" href=https://colab.research.google.com/notebooks/data_table.ipynb>data table notebook</a>'\n",
              "          + ' to learn more about interactive tables.';\n",
              "        element.innerHTML = '';\n",
              "        dataTable['output_type'] = 'display_data';\n",
              "        await google.colab.output.renderOutput(dataTable, element);\n",
              "        const docLink = document.createElement('div');\n",
              "        docLink.innerHTML = docLinkHtml;\n",
              "        element.appendChild(docLink);\n",
              "      }\n",
              "    </script>\n",
              "  </div>\n",
              "\n",
              "\n",
              "<div id=\"df-7b0b0f01-db77-449e-95eb-36b18b57a2aa\">\n",
              "  <button class=\"colab-df-quickchart\" onclick=\"quickchart('df-7b0b0f01-db77-449e-95eb-36b18b57a2aa')\"\n",
              "            title=\"Suggest charts.\"\n",
              "            style=\"display:none;\">\n",
              "\n",
              "<svg xmlns=\"http://www.w3.org/2000/svg\" height=\"24px\"viewBox=\"0 0 24 24\"\n",
              "     width=\"24px\">\n",
              "    <g>\n",
              "        <path d=\"M19 3H5c-1.1 0-2 .9-2 2v14c0 1.1.9 2 2 2h14c1.1 0 2-.9 2-2V5c0-1.1-.9-2-2-2zM9 17H7v-7h2v7zm4 0h-2V7h2v10zm4 0h-2v-4h2v4z\"/>\n",
              "    </g>\n",
              "</svg>\n",
              "  </button>\n",
              "\n",
              "<style>\n",
              "  .colab-df-quickchart {\n",
              "      --bg-color: #E8F0FE;\n",
              "      --fill-color: #1967D2;\n",
              "      --hover-bg-color: #E2EBFA;\n",
              "      --hover-fill-color: #174EA6;\n",
              "      --disabled-fill-color: #AAA;\n",
              "      --disabled-bg-color: #DDD;\n",
              "  }\n",
              "\n",
              "  [theme=dark] .colab-df-quickchart {\n",
              "      --bg-color: #3B4455;\n",
              "      --fill-color: #D2E3FC;\n",
              "      --hover-bg-color: #434B5C;\n",
              "      --hover-fill-color: #FFFFFF;\n",
              "      --disabled-bg-color: #3B4455;\n",
              "      --disabled-fill-color: #666;\n",
              "  }\n",
              "\n",
              "  .colab-df-quickchart {\n",
              "    background-color: var(--bg-color);\n",
              "    border: none;\n",
              "    border-radius: 50%;\n",
              "    cursor: pointer;\n",
              "    display: none;\n",
              "    fill: var(--fill-color);\n",
              "    height: 32px;\n",
              "    padding: 0;\n",
              "    width: 32px;\n",
              "  }\n",
              "\n",
              "  .colab-df-quickchart:hover {\n",
              "    background-color: var(--hover-bg-color);\n",
              "    box-shadow: 0 1px 2px rgba(60, 64, 67, 0.3), 0 1px 3px 1px rgba(60, 64, 67, 0.15);\n",
              "    fill: var(--button-hover-fill-color);\n",
              "  }\n",
              "\n",
              "  .colab-df-quickchart-complete:disabled,\n",
              "  .colab-df-quickchart-complete:disabled:hover {\n",
              "    background-color: var(--disabled-bg-color);\n",
              "    fill: var(--disabled-fill-color);\n",
              "    box-shadow: none;\n",
              "  }\n",
              "\n",
              "  .colab-df-spinner {\n",
              "    border: 2px solid var(--fill-color);\n",
              "    border-color: transparent;\n",
              "    border-bottom-color: var(--fill-color);\n",
              "    animation:\n",
              "      spin 1s steps(1) infinite;\n",
              "  }\n",
              "\n",
              "  @keyframes spin {\n",
              "    0% {\n",
              "      border-color: transparent;\n",
              "      border-bottom-color: var(--fill-color);\n",
              "      border-left-color: var(--fill-color);\n",
              "    }\n",
              "    20% {\n",
              "      border-color: transparent;\n",
              "      border-left-color: var(--fill-color);\n",
              "      border-top-color: var(--fill-color);\n",
              "    }\n",
              "    30% {\n",
              "      border-color: transparent;\n",
              "      border-left-color: var(--fill-color);\n",
              "      border-top-color: var(--fill-color);\n",
              "      border-right-color: var(--fill-color);\n",
              "    }\n",
              "    40% {\n",
              "      border-color: transparent;\n",
              "      border-right-color: var(--fill-color);\n",
              "      border-top-color: var(--fill-color);\n",
              "    }\n",
              "    60% {\n",
              "      border-color: transparent;\n",
              "      border-right-color: var(--fill-color);\n",
              "    }\n",
              "    80% {\n",
              "      border-color: transparent;\n",
              "      border-right-color: var(--fill-color);\n",
              "      border-bottom-color: var(--fill-color);\n",
              "    }\n",
              "    90% {\n",
              "      border-color: transparent;\n",
              "      border-bottom-color: var(--fill-color);\n",
              "    }\n",
              "  }\n",
              "</style>\n",
              "\n",
              "  <script>\n",
              "    async function quickchart(key) {\n",
              "      const quickchartButtonEl =\n",
              "        document.querySelector('#' + key + ' button');\n",
              "      quickchartButtonEl.disabled = true;  // To prevent multiple clicks.\n",
              "      quickchartButtonEl.classList.add('colab-df-spinner');\n",
              "      try {\n",
              "        const charts = await google.colab.kernel.invokeFunction(\n",
              "            'suggestCharts', [key], {});\n",
              "      } catch (error) {\n",
              "        console.error('Error during call to suggestCharts:', error);\n",
              "      }\n",
              "      quickchartButtonEl.classList.remove('colab-df-spinner');\n",
              "      quickchartButtonEl.classList.add('colab-df-quickchart-complete');\n",
              "    }\n",
              "    (() => {\n",
              "      let quickchartButtonEl =\n",
              "        document.querySelector('#df-7b0b0f01-db77-449e-95eb-36b18b57a2aa button');\n",
              "      quickchartButtonEl.style.display =\n",
              "        google.colab.kernel.accessAllowed ? 'block' : 'none';\n",
              "    })();\n",
              "  </script>\n",
              "</div>\n",
              "    </div>\n",
              "  </div>\n"
            ]
          },
          "metadata": {},
          "execution_count": 17
        }
      ]
    },
    {
      "cell_type": "code",
      "source": [
        "d.shape"
      ],
      "metadata": {
        "id": "NBixrYV-HcyE",
        "outputId": "67b0dde5-ead1-4a26-b079-6ca318123f30",
        "colab": {
          "base_uri": "https://localhost:8080/"
        }
      },
      "execution_count": null,
      "outputs": [
        {
          "output_type": "execute_result",
          "data": {
            "text/plain": [
              "(1259, 1)"
            ]
          },
          "metadata": {},
          "execution_count": 7
        }
      ]
    },
    {
      "cell_type": "code",
      "source": [
        "from sklearn.preprocessing import MinMaxScaler\n",
        "scalar=MinMaxScaler()  #you must pass to MinMaxScaler function a 2D input\n",
        "d=scalar.fit_transform(d)\n",
        "d"
      ],
      "metadata": {
        "id": "Wj37uV6kGHUW",
        "outputId": "2596d45c-fe48-48b9-fcbe-a2234351eb67",
        "colab": {
          "base_uri": "https://localhost:8080/"
        }
      },
      "execution_count": null,
      "outputs": [
        {
          "output_type": "execute_result",
          "data": {
            "text/plain": [
              "array([[0.19795893],\n",
              "       [0.19086893],\n",
              "       [0.17784675],\n",
              "       ...,\n",
              "       [0.95814044],\n",
              "       [0.96566006],\n",
              "       [0.96164959]])"
            ]
          },
          "metadata": {},
          "execution_count": 18
        }
      ]
    },
    {
      "cell_type": "code",
      "source": [
        "len(d)"
      ],
      "metadata": {
        "colab": {
          "base_uri": "https://localhost:8080/"
        },
        "id": "oaGcvrkOj_XI",
        "outputId": "8c9987de-75ec-46c1-9916-df431cc6e7e4"
      },
      "execution_count": null,
      "outputs": [
        {
          "output_type": "execute_result",
          "data": {
            "text/plain": [
              "1259"
            ]
          },
          "metadata": {},
          "execution_count": 9
        }
      ]
    },
    {
      "cell_type": "code",
      "source": [
        "train = d[:818]\n",
        "test = d[818:]\n",
        "print(\"train shape:\",train.shape,\"\\ntest shape:\",test.shape)"
      ],
      "metadata": {
        "colab": {
          "base_uri": "https://localhost:8080/"
        },
        "id": "CQqxvjJFkAyq",
        "outputId": "f7dd43ee-d34a-4009-fefc-308af3c5312e"
      },
      "execution_count": null,
      "outputs": [
        {
          "output_type": "stream",
          "name": "stdout",
          "text": [
            "train shape: (818, 1) \n",
            "test shape: (441, 1)\n"
          ]
        }
      ]
    },
    {
      "cell_type": "code",
      "source": [
        "print(\"train length:\",len(train),\"\\ntest length:\",len(test))"
      ],
      "metadata": {
        "colab": {
          "base_uri": "https://localhost:8080/"
        },
        "id": "A-s8BCfxkCky",
        "outputId": "a414dfe9-7d37-4505-ac96-c7eda085c80c"
      },
      "execution_count": null,
      "outputs": [
        {
          "output_type": "stream",
          "name": "stdout",
          "text": [
            "train length: 818 \n",
            "test length: 441\n"
          ]
        }
      ]
    },
    {
      "cell_type": "code",
      "source": [
        "import numpy as np\n",
        "def createDS(ds, ts=60):\n",
        "  x = []\n",
        "  y = []\n",
        "  for i in range(len(ds) - ts):\n",
        "    a = ds[i:(i + ts)]\n",
        "    x.append(a)\n",
        "    b = ds[(i + ts)]\n",
        "    y.append(b)\n",
        "  return np.array(x), np.array(y)"
      ],
      "metadata": {
        "id": "lhyWmteJkE1l"
      },
      "execution_count": null,
      "outputs": []
    },
    {
      "cell_type": "code",
      "source": [
        "x_train, y_train = createDS(train,60)\n",
        "x_test, y_test = createDS(test,60)\n",
        "print(x_train.shape,y_train.shape, x_test.shape,y_test.shape,sep='\\n')"
      ],
      "metadata": {
        "colab": {
          "base_uri": "https://localhost:8080/"
        },
        "id": "Uqb5h7oLkHzo",
        "outputId": "b952a73f-0b29-4a1e-e835-42c177f5bfa4"
      },
      "execution_count": null,
      "outputs": [
        {
          "output_type": "stream",
          "name": "stdout",
          "text": [
            "(758, 60, 1)\n",
            "(758, 1)\n",
            "(381, 60, 1)\n",
            "(381, 1)\n"
          ]
        }
      ]
    },
    {
      "cell_type": "code",
      "source": [
        "import numpy as np\n",
        "np.where(x_train==y_train[0])"
      ],
      "metadata": {
        "colab": {
          "base_uri": "https://localhost:8080/"
        },
        "id": "LAHgbDWawVyG",
        "outputId": "a525ee61-14eb-4643-8164-d897c15ff166"
      },
      "execution_count": null,
      "outputs": [
        {
          "output_type": "execute_result",
          "data": {
            "text/plain": [
              "(array([ 1,  2,  3,  4,  5,  6,  7,  8,  9, 10, 11, 12, 13, 14, 15, 16, 17,\n",
              "        18, 19, 20, 21, 22, 23, 24, 25, 26, 27, 28, 29, 30, 31, 32, 33, 34,\n",
              "        35, 36, 37, 38, 39, 40, 41, 42, 43, 44, 45, 46, 47, 48, 49, 50, 51,\n",
              "        52, 53, 54, 55, 56, 57, 58, 59, 60]),\n",
              " array([59, 58, 57, 56, 55, 54, 53, 52, 51, 50, 49, 48, 47, 46, 45, 44, 43,\n",
              "        42, 41, 40, 39, 38, 37, 36, 35, 34, 33, 32, 31, 30, 29, 28, 27, 26,\n",
              "        25, 24, 23, 22, 21, 20, 19, 18, 17, 16, 15, 14, 13, 12, 11, 10,  9,\n",
              "         8,  7,  6,  5,  4,  3,  2,  1,  0]))"
            ]
          },
          "metadata": {},
          "execution_count": 134
        }
      ]
    },
    {
      "cell_type": "code",
      "source": [
        "y_train[0]"
      ],
      "metadata": {
        "colab": {
          "base_uri": "https://localhost:8080/"
        },
        "id": "1wGsKnwEwGCz",
        "outputId": "4f1abb25-6ddd-4722-d274-1f7906ed9e05"
      },
      "execution_count": null,
      "outputs": [
        {
          "output_type": "execute_result",
          "data": {
            "text/plain": [
              "15.782143"
            ]
          },
          "metadata": {},
          "execution_count": 135
        }
      ]
    },
    {
      "cell_type": "code",
      "source": [
        "x_train[1][-1]"
      ],
      "metadata": {
        "colab": {
          "base_uri": "https://localhost:8080/"
        },
        "id": "oPcHMvu-3HB5",
        "outputId": "9acbf4ed-67b3-4dc2-a1e7-2bf8511fd846"
      },
      "execution_count": null,
      "outputs": [
        {
          "output_type": "execute_result",
          "data": {
            "text/plain": [
              "15.782143"
            ]
          },
          "metadata": {},
          "execution_count": 136
        }
      ]
    },
    {
      "cell_type": "code",
      "source": [
        "x_train = x_train.reshape(x_train.shape[0],x_train.shape[1],1)\n",
        "x_train.shape"
      ],
      "metadata": {
        "colab": {
          "base_uri": "https://localhost:8080/"
        },
        "id": "qh_7gO-Wl9w5",
        "outputId": "a89ae3f9-975a-4d48-8537-26fb12f02e21"
      },
      "execution_count": null,
      "outputs": [
        {
          "output_type": "execute_result",
          "data": {
            "text/plain": [
              "(758, 60, 1)"
            ]
          },
          "metadata": {},
          "execution_count": 24
        }
      ]
    },
    {
      "cell_type": "code",
      "source": [
        "x_test = x_test.reshape(x_test.shape[0],x_test.shape[1],1)\n",
        "x_test.shape"
      ],
      "metadata": {
        "colab": {
          "base_uri": "https://localhost:8080/"
        },
        "id": "Zh3_uOQcmtJn",
        "outputId": "6c931347-b9d7-4fff-e94d-1538e31dec83"
      },
      "execution_count": null,
      "outputs": [
        {
          "output_type": "execute_result",
          "data": {
            "text/plain": [
              "(381, 60, 1)"
            ]
          },
          "metadata": {},
          "execution_count": 25
        }
      ]
    },
    {
      "cell_type": "code",
      "source": [
        "from keras.models import Sequential\n",
        "model = Sequential()\n",
        "model.add(LSTM(units=50, return_sequences=True, input_shape=(60,1)))\n",
        "model.add(LSTM(units=50, return_sequences=True))\n",
        "model.add(LSTM(units=50))\n",
        "model.add(Dense(units=1))\n",
        "model.summary()"
      ],
      "metadata": {
        "colab": {
          "base_uri": "https://localhost:8080/"
        },
        "id": "fJw1gk-KkJRA",
        "outputId": "51dfbfc9-42f9-4915-e73e-c59a4845ae83"
      },
      "execution_count": null,
      "outputs": [
        {
          "output_type": "stream",
          "name": "stdout",
          "text": [
            "Model: \"sequential_1\"\n",
            "_________________________________________________________________\n",
            " Layer (type)                Output Shape              Param #   \n",
            "=================================================================\n",
            " lstm (LSTM)                 (None, 60, 50)            10400     \n",
            "                                                                 \n",
            " lstm_1 (LSTM)               (None, 60, 50)            20200     \n",
            "                                                                 \n",
            " lstm_2 (LSTM)               (None, 50)                20200     \n",
            "                                                                 \n",
            " dense (Dense)               (None, 1)                 51        \n",
            "                                                                 \n",
            "=================================================================\n",
            "Total params: 50851 (198.64 KB)\n",
            "Trainable params: 50851 (198.64 KB)\n",
            "Non-trainable params: 0 (0.00 Byte)\n",
            "_________________________________________________________________\n"
          ]
        }
      ]
    },
    {
      "cell_type": "code",
      "source": [
        "model.compile(loss='mean_squared_error', optimizer='adam')\n",
        "model.fit(x_train,y_train,epochs=100, verbose=1, validation_data=[x_test,y_test])"
      ],
      "metadata": {
        "colab": {
          "base_uri": "https://localhost:8080/"
        },
        "id": "bb_rJDzTkLPr",
        "outputId": "5850161d-1408-4f77-cf9f-62eed1b0a37a"
      },
      "execution_count": null,
      "outputs": [
        {
          "output_type": "stream",
          "name": "stdout",
          "text": [
            "Epoch 1/100\n",
            "24/24 [==============================] - 12s 181ms/step - loss: 0.0232 - val_loss: 0.0041\n",
            "Epoch 2/100\n",
            "24/24 [==============================] - 2s 95ms/step - loss: 0.0022 - val_loss: 0.0064\n",
            "Epoch 3/100\n",
            "24/24 [==============================] - 2s 94ms/step - loss: 0.0013 - val_loss: 0.0034\n",
            "Epoch 4/100\n",
            "24/24 [==============================] - 2s 98ms/step - loss: 0.0012 - val_loss: 0.0066\n",
            "Epoch 5/100\n",
            "24/24 [==============================] - 3s 138ms/step - loss: 0.0012 - val_loss: 0.0051\n",
            "Epoch 6/100\n",
            "24/24 [==============================] - 2s 94ms/step - loss: 0.0012 - val_loss: 0.0044\n",
            "Epoch 7/100\n",
            "24/24 [==============================] - 2s 100ms/step - loss: 0.0012 - val_loss: 0.0080\n",
            "Epoch 8/100\n",
            "24/24 [==============================] - 2s 94ms/step - loss: 0.0011 - val_loss: 0.0039\n",
            "Epoch 9/100\n",
            "24/24 [==============================] - 2s 93ms/step - loss: 0.0011 - val_loss: 0.0033\n",
            "Epoch 10/100\n",
            "24/24 [==============================] - 3s 146ms/step - loss: 9.9481e-04 - val_loss: 0.0026\n",
            "Epoch 11/100\n",
            "24/24 [==============================] - 2s 98ms/step - loss: 9.9418e-04 - val_loss: 0.0033\n",
            "Epoch 12/100\n",
            "24/24 [==============================] - 2s 95ms/step - loss: 9.4365e-04 - val_loss: 0.0031\n",
            "Epoch 13/100\n",
            "24/24 [==============================] - 2s 96ms/step - loss: 9.3311e-04 - val_loss: 0.0014\n",
            "Epoch 14/100\n",
            "24/24 [==============================] - 2s 96ms/step - loss: 8.6508e-04 - val_loss: 0.0027\n",
            "Epoch 15/100\n",
            "24/24 [==============================] - 3s 144ms/step - loss: 8.3056e-04 - val_loss: 0.0025\n",
            "Epoch 16/100\n",
            "24/24 [==============================] - 2s 101ms/step - loss: 7.9226e-04 - val_loss: 0.0016\n",
            "Epoch 17/100\n",
            "24/24 [==============================] - 2s 94ms/step - loss: 7.9136e-04 - val_loss: 0.0020\n",
            "Epoch 18/100\n",
            "24/24 [==============================] - 2s 98ms/step - loss: 8.2947e-04 - val_loss: 0.0021\n",
            "Epoch 19/100\n",
            "24/24 [==============================] - 3s 117ms/step - loss: 8.6914e-04 - val_loss: 0.0066\n",
            "Epoch 20/100\n",
            "24/24 [==============================] - 3s 139ms/step - loss: 8.0968e-04 - val_loss: 0.0038\n",
            "Epoch 21/100\n",
            "24/24 [==============================] - 2s 99ms/step - loss: 8.1198e-04 - val_loss: 0.0027\n",
            "Epoch 22/100\n",
            "24/24 [==============================] - 2s 96ms/step - loss: 7.2390e-04 - val_loss: 0.0025\n",
            "Epoch 23/100\n",
            "24/24 [==============================] - 2s 95ms/step - loss: 7.2762e-04 - val_loss: 0.0023\n",
            "Epoch 24/100\n",
            "24/24 [==============================] - 2s 95ms/step - loss: 6.9070e-04 - val_loss: 0.0028\n",
            "Epoch 25/100\n",
            "24/24 [==============================] - 3s 142ms/step - loss: 7.4493e-04 - val_loss: 0.0029\n",
            "Epoch 26/100\n",
            "24/24 [==============================] - 2s 94ms/step - loss: 7.8156e-04 - val_loss: 9.4363e-04\n",
            "Epoch 27/100\n",
            "24/24 [==============================] - 2s 95ms/step - loss: 7.5114e-04 - val_loss: 0.0015\n",
            "Epoch 28/100\n",
            "24/24 [==============================] - 2s 100ms/step - loss: 8.0680e-04 - val_loss: 0.0029\n",
            "Epoch 29/100\n",
            "24/24 [==============================] - 2s 96ms/step - loss: 7.3566e-04 - val_loss: 0.0016\n",
            "Epoch 30/100\n",
            "24/24 [==============================] - 3s 147ms/step - loss: 7.9616e-04 - val_loss: 8.3134e-04\n",
            "Epoch 31/100\n",
            "24/24 [==============================] - 2s 99ms/step - loss: 7.8438e-04 - val_loss: 0.0032\n",
            "Epoch 32/100\n",
            "24/24 [==============================] - 2s 98ms/step - loss: 6.5103e-04 - val_loss: 0.0021\n",
            "Epoch 33/100\n",
            "24/24 [==============================] - 2s 96ms/step - loss: 6.0363e-04 - val_loss: 0.0012\n",
            "Epoch 34/100\n",
            "24/24 [==============================] - 2s 98ms/step - loss: 6.8725e-04 - val_loss: 0.0019\n",
            "Epoch 35/100\n",
            "24/24 [==============================] - 3s 142ms/step - loss: 7.6016e-04 - val_loss: 0.0049\n",
            "Epoch 36/100\n",
            "24/24 [==============================] - 2s 99ms/step - loss: 6.0208e-04 - val_loss: 7.9253e-04\n",
            "Epoch 37/100\n",
            "24/24 [==============================] - 2s 98ms/step - loss: 5.7379e-04 - val_loss: 8.6815e-04\n",
            "Epoch 38/100\n",
            "24/24 [==============================] - 2s 98ms/step - loss: 6.3472e-04 - val_loss: 0.0021\n",
            "Epoch 39/100\n",
            "24/24 [==============================] - 2s 98ms/step - loss: 5.8238e-04 - val_loss: 0.0015\n",
            "Epoch 40/100\n",
            "24/24 [==============================] - 3s 140ms/step - loss: 5.4542e-04 - val_loss: 0.0015\n",
            "Epoch 41/100\n",
            "24/24 [==============================] - 3s 110ms/step - loss: 5.2789e-04 - val_loss: 0.0023\n",
            "Epoch 42/100\n",
            "24/24 [==============================] - 2s 94ms/step - loss: 5.5465e-04 - val_loss: 0.0013\n",
            "Epoch 43/100\n",
            "24/24 [==============================] - 2s 95ms/step - loss: 5.8175e-04 - val_loss: 0.0017\n",
            "Epoch 44/100\n",
            "24/24 [==============================] - 2s 97ms/step - loss: 6.4174e-04 - val_loss: 0.0024\n",
            "Epoch 45/100\n",
            "24/24 [==============================] - 3s 142ms/step - loss: 5.3006e-04 - val_loss: 0.0029\n",
            "Epoch 46/100\n",
            "24/24 [==============================] - 2s 94ms/step - loss: 5.6458e-04 - val_loss: 0.0012\n",
            "Epoch 47/100\n",
            "24/24 [==============================] - 2s 98ms/step - loss: 5.0014e-04 - val_loss: 0.0013\n",
            "Epoch 48/100\n",
            "24/24 [==============================] - 2s 93ms/step - loss: 4.7927e-04 - val_loss: 5.8623e-04\n",
            "Epoch 49/100\n",
            "24/24 [==============================] - 2s 96ms/step - loss: 5.2693e-04 - val_loss: 0.0012\n",
            "Epoch 50/100\n",
            "24/24 [==============================] - 3s 143ms/step - loss: 5.0394e-04 - val_loss: 7.8000e-04\n",
            "Epoch 51/100\n",
            "24/24 [==============================] - 2s 96ms/step - loss: 4.6692e-04 - val_loss: 7.3576e-04\n",
            "Epoch 52/100\n",
            "24/24 [==============================] - 2s 98ms/step - loss: 4.6931e-04 - val_loss: 7.9423e-04\n",
            "Epoch 53/100\n",
            "24/24 [==============================] - 2s 97ms/step - loss: 4.3590e-04 - val_loss: 8.9305e-04\n",
            "Epoch 54/100\n",
            "24/24 [==============================] - 2s 97ms/step - loss: 4.6075e-04 - val_loss: 3.8044e-04\n",
            "Epoch 55/100\n",
            "24/24 [==============================] - 3s 143ms/step - loss: 4.4731e-04 - val_loss: 5.2269e-04\n",
            "Epoch 56/100\n",
            "24/24 [==============================] - 2s 96ms/step - loss: 4.1458e-04 - val_loss: 0.0021\n",
            "Epoch 57/100\n",
            "24/24 [==============================] - 2s 99ms/step - loss: 4.4905e-04 - val_loss: 6.5840e-04\n",
            "Epoch 58/100\n",
            "24/24 [==============================] - 2s 95ms/step - loss: 4.0004e-04 - val_loss: 0.0015\n",
            "Epoch 59/100\n",
            "24/24 [==============================] - 2s 95ms/step - loss: 4.5832e-04 - val_loss: 4.2027e-04\n",
            "Epoch 60/100\n",
            "24/24 [==============================] - 3s 136ms/step - loss: 4.0231e-04 - val_loss: 0.0010\n",
            "Epoch 61/100\n",
            "24/24 [==============================] - 2s 101ms/step - loss: 4.2329e-04 - val_loss: 8.0292e-04\n",
            "Epoch 62/100\n",
            "24/24 [==============================] - 2s 95ms/step - loss: 3.8415e-04 - val_loss: 6.4642e-04\n",
            "Epoch 63/100\n",
            "24/24 [==============================] - 3s 137ms/step - loss: 3.7522e-04 - val_loss: 3.2770e-04\n",
            "Epoch 64/100\n",
            "24/24 [==============================] - 5s 203ms/step - loss: 4.0458e-04 - val_loss: 0.0015\n",
            "Epoch 65/100\n",
            "24/24 [==============================] - 5s 195ms/step - loss: 4.1750e-04 - val_loss: 3.7172e-04\n",
            "Epoch 66/100\n",
            "24/24 [==============================] - 5s 224ms/step - loss: 4.2039e-04 - val_loss: 4.9992e-04\n",
            "Epoch 67/100\n",
            "24/24 [==============================] - 4s 153ms/step - loss: 3.5856e-04 - val_loss: 4.9564e-04\n",
            "Epoch 68/100\n",
            "24/24 [==============================] - 2s 98ms/step - loss: 3.5873e-04 - val_loss: 3.3034e-04\n",
            "Epoch 69/100\n",
            "24/24 [==============================] - 2s 101ms/step - loss: 4.0604e-04 - val_loss: 6.7789e-04\n",
            "Epoch 70/100\n",
            "24/24 [==============================] - 2s 99ms/step - loss: 3.4720e-04 - val_loss: 4.1692e-04\n",
            "Epoch 71/100\n",
            "24/24 [==============================] - 2s 96ms/step - loss: 3.5060e-04 - val_loss: 4.2673e-04\n",
            "Epoch 72/100\n",
            "24/24 [==============================] - 3s 146ms/step - loss: 3.7664e-04 - val_loss: 2.6991e-04\n",
            "Epoch 73/100\n",
            "24/24 [==============================] - 2s 98ms/step - loss: 3.2565e-04 - val_loss: 3.9117e-04\n",
            "Epoch 74/100\n",
            "24/24 [==============================] - 2s 98ms/step - loss: 3.2850e-04 - val_loss: 6.2836e-04\n",
            "Epoch 75/100\n",
            "24/24 [==============================] - 2s 98ms/step - loss: 3.5140e-04 - val_loss: 4.5016e-04\n",
            "Epoch 76/100\n",
            "24/24 [==============================] - 2s 96ms/step - loss: 3.4650e-04 - val_loss: 4.9005e-04\n",
            "Epoch 77/100\n",
            "24/24 [==============================] - 3s 147ms/step - loss: 3.2388e-04 - val_loss: 2.7947e-04\n",
            "Epoch 78/100\n",
            "24/24 [==============================] - 2s 95ms/step - loss: 3.5956e-04 - val_loss: 2.8456e-04\n",
            "Epoch 79/100\n",
            "24/24 [==============================] - 2s 98ms/step - loss: 2.9507e-04 - val_loss: 4.4293e-04\n",
            "Epoch 80/100\n",
            "24/24 [==============================] - 2s 97ms/step - loss: 2.9377e-04 - val_loss: 6.4331e-04\n",
            "Epoch 81/100\n",
            "24/24 [==============================] - 2s 99ms/step - loss: 3.5848e-04 - val_loss: 3.3979e-04\n",
            "Epoch 82/100\n",
            "24/24 [==============================] - 3s 147ms/step - loss: 3.7168e-04 - val_loss: 4.0497e-04\n",
            "Epoch 83/100\n",
            "24/24 [==============================] - 3s 131ms/step - loss: 2.9163e-04 - val_loss: 3.8717e-04\n",
            "Epoch 84/100\n",
            "24/24 [==============================] - 3s 124ms/step - loss: 3.0130e-04 - val_loss: 0.0013\n",
            "Epoch 85/100\n",
            "24/24 [==============================] - 2s 98ms/step - loss: 2.9785e-04 - val_loss: 7.2647e-04\n",
            "Epoch 86/100\n",
            "24/24 [==============================] - 3s 128ms/step - loss: 3.5468e-04 - val_loss: 2.9780e-04\n",
            "Epoch 87/100\n",
            "24/24 [==============================] - 3s 112ms/step - loss: 2.9868e-04 - val_loss: 2.9093e-04\n",
            "Epoch 88/100\n",
            "24/24 [==============================] - 2s 95ms/step - loss: 2.8785e-04 - val_loss: 3.3231e-04\n",
            "Epoch 89/100\n",
            "24/24 [==============================] - 2s 98ms/step - loss: 3.1837e-04 - val_loss: 2.7988e-04\n",
            "Epoch 90/100\n",
            "24/24 [==============================] - 2s 97ms/step - loss: 3.4462e-04 - val_loss: 8.7001e-04\n",
            "Epoch 91/100\n",
            "24/24 [==============================] - 3s 138ms/step - loss: 3.4185e-04 - val_loss: 4.9142e-04\n",
            "Epoch 92/100\n",
            "24/24 [==============================] - 2s 101ms/step - loss: 2.5988e-04 - val_loss: 7.0772e-04\n",
            "Epoch 93/100\n",
            "24/24 [==============================] - 3s 123ms/step - loss: 2.5595e-04 - val_loss: 5.0696e-04\n",
            "Epoch 94/100\n",
            "24/24 [==============================] - 4s 157ms/step - loss: 2.6017e-04 - val_loss: 2.3549e-04\n",
            "Epoch 95/100\n",
            "24/24 [==============================] - 3s 131ms/step - loss: 2.6910e-04 - val_loss: 2.6373e-04\n",
            "Epoch 96/100\n",
            "24/24 [==============================] - 3s 108ms/step - loss: 2.7004e-04 - val_loss: 3.1290e-04\n",
            "Epoch 97/100\n",
            "24/24 [==============================] - 2s 99ms/step - loss: 2.7862e-04 - val_loss: 2.7373e-04\n",
            "Epoch 98/100\n",
            "24/24 [==============================] - 2s 98ms/step - loss: 2.7316e-04 - val_loss: 6.2121e-04\n",
            "Epoch 99/100\n",
            "24/24 [==============================] - 2s 97ms/step - loss: 2.7709e-04 - val_loss: 0.0015\n",
            "Epoch 100/100\n",
            "24/24 [==============================] - 3s 127ms/step - loss: 3.3960e-04 - val_loss: 3.2099e-04\n"
          ]
        },
        {
          "output_type": "execute_result",
          "data": {
            "text/plain": [
              "<keras.src.callbacks.History at 0x7b820a3f1540>"
            ]
          },
          "metadata": {},
          "execution_count": 30
        }
      ]
    },
    {
      "cell_type": "code",
      "source": [
        "yp = model.predict(x_test)\n",
        "yp.shape"
      ],
      "metadata": {
        "colab": {
          "base_uri": "https://localhost:8080/"
        },
        "id": "YfsuPy5ZtpnZ",
        "outputId": "649ddb71-26a9-4b74-95c6-fed103989ccb"
      },
      "execution_count": null,
      "outputs": [
        {
          "output_type": "stream",
          "name": "stdout",
          "text": [
            "12/12 [==============================] - 2s 24ms/step\n"
          ]
        },
        {
          "output_type": "execute_result",
          "data": {
            "text/plain": [
              "(381, 1)"
            ]
          },
          "metadata": {},
          "execution_count": 32
        }
      ]
    },
    {
      "cell_type": "code",
      "source": [
        "yp_train = model.predict(x_train)\n",
        "yp_train.shape"
      ],
      "metadata": {
        "colab": {
          "base_uri": "https://localhost:8080/"
        },
        "id": "HkjB4Ul55j-K",
        "outputId": "82c92181-4953-499f-ecbb-fdd96fbf28c0"
      },
      "execution_count": null,
      "outputs": [
        {
          "output_type": "stream",
          "name": "stdout",
          "text": [
            "24/24 [==============================] - 1s 25ms/step\n"
          ]
        },
        {
          "output_type": "execute_result",
          "data": {
            "text/plain": [
              "(758, 1)"
            ]
          },
          "metadata": {},
          "execution_count": 33
        }
      ]
    },
    {
      "cell_type": "code",
      "source": [
        "y_train = y_train.reshape(y_train.shape[0],1)\n",
        "y_test = y_test.reshape(y_test.shape[0],1)"
      ],
      "metadata": {
        "id": "hb8MUtTS5syx"
      },
      "execution_count": null,
      "outputs": []
    },
    {
      "cell_type": "code",
      "source": [
        "yp_train=scalar.inverse_transform(yp_train)\n",
        "yp=scalar.inverse_transform(yp)\n",
        "\n",
        "y_train=scalar.inverse_transform(y_train)  #to make inverse transform\n",
        "y_test=scalar.inverse_transform(y_test)"
      ],
      "metadata": {
        "id": "lSXv-9MSKUmx"
      },
      "execution_count": null,
      "outputs": []
    },
    {
      "cell_type": "code",
      "source": [
        "print(y_train.shape,\"\\n\",y_test.shape)"
      ],
      "metadata": {
        "colab": {
          "base_uri": "https://localhost:8080/"
        },
        "id": "B34d3qrVP7YC",
        "outputId": "4b120827-63c3-429d-ae7f-7fd41e05dc16"
      },
      "execution_count": null,
      "outputs": [
        {
          "output_type": "stream",
          "name": "stdout",
          "text": [
            "(758, 1) \n",
            " (381, 1)\n"
          ]
        }
      ]
    },
    {
      "cell_type": "code",
      "source": [
        "from sklearn.metrics import mean_squared_error, r2_score, accuracy_score\n",
        "loss_train = mean_squared_error(yp_train,y_train)\n",
        "loss_test = mean_squared_error(yp,y_test)\n",
        "print(\"MSE for Train set:\",loss_train,\"\\nMSE for Test set:\",loss_test)"
      ],
      "metadata": {
        "colab": {
          "base_uri": "https://localhost:8080/"
        },
        "id": "5I9o-ydN5bSn",
        "outputId": "359bc77f-3495-4bb1-d926-4504481930a0"
      },
      "execution_count": null,
      "outputs": [
        {
          "output_type": "stream",
          "name": "stdout",
          "text": [
            "MSE for Train set: 0.3741402895630769 \n",
            "MSE for Test set: 0.28738108208359\n"
          ]
        }
      ]
    },
    {
      "cell_type": "code",
      "source": [
        "x_test[25].shape"
      ],
      "metadata": {
        "colab": {
          "base_uri": "https://localhost:8080/"
        },
        "id": "vNtustGc79mv",
        "outputId": "c4e8e0bf-f560-4613-fce6-1e9fd03391be"
      },
      "execution_count": null,
      "outputs": [
        {
          "output_type": "execute_result",
          "data": {
            "text/plain": [
              "(60, 1)"
            ]
          },
          "metadata": {},
          "execution_count": 220
        }
      ]
    },
    {
      "cell_type": "code",
      "source": [
        "yp1 = model.predict(x_test[25].reshape(1,60,1))\n",
        "yp1"
      ],
      "metadata": {
        "colab": {
          "base_uri": "https://localhost:8080/"
        },
        "id": "IUIAnphMogAA",
        "outputId": "b66cbba6-2f0d-415a-b87b-fe5a52a4f8cb"
      },
      "execution_count": null,
      "outputs": [
        {
          "output_type": "stream",
          "name": "stdout",
          "text": [
            "1/1 [==============================] - 0s 32ms/step\n"
          ]
        },
        {
          "output_type": "execute_result",
          "data": {
            "text/plain": [
              "array([[0.4327192]], dtype=float32)"
            ]
          },
          "metadata": {},
          "execution_count": 45
        }
      ]
    },
    {
      "cell_type": "code",
      "source": [
        "yp1=scalar.inverse_transform(yp1)\n",
        "yp1"
      ],
      "metadata": {
        "id": "8Z1XZGqdNFMV",
        "outputId": "865be958-d295-4d9f-8a79-96f2f056ee7e",
        "colab": {
          "base_uri": "https://localhost:8080/"
        }
      },
      "execution_count": null,
      "outputs": [
        {
          "output_type": "execute_result",
          "data": {
            "text/plain": [
              "array([[26.803648]], dtype=float32)"
            ]
          },
          "metadata": {},
          "execution_count": 48
        }
      ]
    },
    {
      "cell_type": "code",
      "source": [
        "y_test[25]"
      ],
      "metadata": {
        "colab": {
          "base_uri": "https://localhost:8080/"
        },
        "id": "jupj16tF8F94",
        "outputId": "d748a09d-c85d-4806-ac5e-24d9b70cc75c"
      },
      "execution_count": null,
      "outputs": [
        {
          "output_type": "execute_result",
          "data": {
            "text/plain": [
              "array([26.202499])"
            ]
          },
          "metadata": {},
          "execution_count": 44
        }
      ]
    },
    {
      "cell_type": "markdown",
      "source": [
        "#Predict a random value from x_test"
      ],
      "metadata": {
        "id": "6cZHj-Dzea2P"
      }
    },
    {
      "cell_type": "markdown",
      "source": [
        "-> run these cell everytime will predict a random value from x_test <-"
      ],
      "metadata": {
        "id": "dPyX849B9SYq"
      }
    },
    {
      "cell_type": "code",
      "source": [
        "import random as r\n",
        "# where n is a random index in y_test\n",
        "n = r.randint(0,len(x_test))\n",
        "yp1 = model.predict(x_test[n].reshape(1,60,1))\n",
        "print(\"at index '{}' in x_test \\nPredicted value = {} \\nActual value    = {}\".format(n, yp1[0,0] ,y_test[n,0]))"
      ],
      "metadata": {
        "colab": {
          "base_uri": "https://localhost:8080/"
        },
        "id": "AJFuEo1s8LI4",
        "outputId": "65c506c1-ecde-44a8-902d-09ae7ed55f53"
      },
      "execution_count": null,
      "outputs": [
        {
          "output_type": "stream",
          "name": "stdout",
          "text": [
            "1/1 [==============================] - 0s 21ms/step\n",
            "at index '337' in x_test \n",
            "Predicted value = 33.651756286621094 \n",
            "Actual value    = 39.822498\n"
          ]
        }
      ]
    },
    {
      "cell_type": "markdown",
      "source": [
        "#Visualization"
      ],
      "metadata": {
        "id": "P-ahXv96d9dd"
      }
    },
    {
      "cell_type": "code",
      "source": [
        "import matplotlib.pyplot as plt\n",
        "split = 818\n",
        "time_step = 60\n",
        "plt.figure(figsize=(10,5))\n",
        "plt.title('y_predict_train   vs.   y_actual_train  (according to date)')\n",
        "plt.plot(df.loc[time_step:split-1,'Date'],yp_train, color='r', label='predictions stock')\n",
        "plt.plot(df.loc[time_step:split-1,'Date'],y_train, color='green', label='actual stock')\n",
        "plt.legend(loc='lower right')\n",
        "plt.show()"
      ],
      "metadata": {
        "colab": {
          "base_uri": "https://localhost:8080/",
          "height": 468
        },
        "id": "Sf_ixyfn_8oV",
        "outputId": "b09205bd-4557-40ad-d394-2675bc57ae86"
      },
      "execution_count": null,
      "outputs": [
        {
          "output_type": "display_data",
          "data": {
            "text/plain": [
              "<Figure size 1000x500 with 1 Axes>"
            ],
            "image/png": "[encoded data removed]"
          },
          "metadata": {}
        }
      ]
    },
    {
      "cell_type": "code",
      "source": [
        "plt.figure(figsize=(10,5))\n",
        "plt.title('y_predict_test   vs.   y_actual_test  (according to date)')\n",
        "plt.plot(df.loc[split+time_step:,'Date'],yp, color='r', label='predictions stock')\n",
        "plt.plot(df.loc[split+time_step:,'Date'],y_test, color='green', label='actual stock')\n",
        "plt.legend(loc='lower right')\n",
        "plt.show()"
      ],
      "metadata": {
        "colab": {
          "base_uri": "https://localhost:8080/",
          "height": 468
        },
        "id": "MZFwiP6_MY7j",
        "outputId": "119598e5-9ee5-4926-b234-8ee97d125416"
      },
      "execution_count": null,
      "outputs": [
        {
          "output_type": "display_data",
          "data": {
            "text/plain": [
              "<Figure size 1000x500 with 1 Axes>"
            ],
            "image/png": "[encoded data removed]"
          },
          "metadata": {}
        }
      ]
    }
  ]
}